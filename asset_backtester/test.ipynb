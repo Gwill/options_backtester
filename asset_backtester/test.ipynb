{
 "cells": [
  {
   "cell_type": "code",
   "execution_count": 1,
   "metadata": {},
   "outputs": [],
   "source": [
    "import pandas as pd\n",
    "import numpy as np\n",
    "import os"
   ]
  },
  {
   "cell_type": "code",
   "execution_count": 2,
   "metadata": {},
   "outputs": [],
   "source": [
    "from backtester import Backtest\n",
    "from strategy.strategy import Strategy\n",
    "from strategy.asset import Asset\n",
    "from strategy.direction import Direction\n",
    "from datahandler import HistoricalStockData\n",
    "from statistics.charts import returns_chart"
   ]
  },
  {
   "cell_type": "code",
   "execution_count": 3,
   "metadata": {},
   "outputs": [],
   "source": [
    "%config InlineBackend.figure_format=\"retina\"\n",
    "%matplotlib inline"
   ]
  },
  {
   "cell_type": "code",
   "execution_count": 4,
   "metadata": {},
   "outputs": [],
   "source": [
    "import pandas_datareader.data as web\n",
    "import datetime"
   ]
  },
  {
   "cell_type": "code",
   "execution_count": 5,
   "metadata": {},
   "outputs": [],
   "source": [
    "start = datetime.datetime(2019, 1, 1)\n",
    "end = datetime.datetime(2019, 12, 31)\n",
    "\n",
    "tickers =   [\"VOO\", \"TUR\", \"RSX\", \"EWY\", \"EWS\", \"VTIP\", \"TLT\", \"BWX\", \"PDBC\", \"IAU\", \"VNQI\"]\n",
    "portfolio = [0.1,    0.05,  0.05,  0.05,  0.05,   0.10,  0.20,  0.10,   0.05,  0.15,  0.10, 1]\n",
    "\n",
    "dfs = []\n",
    "for ticker in tickers:\n",
    "    df = web.DataReader(ticker, 'yahoo', start, end).reset_index().rename(columns={'Date': 'date', 'High': 'high', 'Low': 'low', 'Open': 'open', 'Close': 'close', 'Volume': 'volume'})\n",
    "    df['symbol'] = ticker\n",
    "    dfs.append(df)\n"
   ]
  },
  {
   "cell_type": "code",
   "execution_count": 6,
   "metadata": {},
   "outputs": [],
   "source": [
    "portfolio = pd.concat(dfs)"
   ]
  },
  {
   "cell_type": "code",
   "execution_count": 7,
   "metadata": {},
   "outputs": [],
   "source": [
    "portfolio = portfolio.sort_values(by='date').reset_index(drop=True)"
   ]
  },
  {
   "cell_type": "code",
   "execution_count": 8,
   "metadata": {},
   "outputs": [],
   "source": [
    "portfolio.to_csv(\"data/portfolio.csv\", index=False)"
   ]
  },
  {
   "cell_type": "code",
   "execution_count": null,
   "metadata": {},
   "outputs": [],
   "source": []
  },
  {
   "cell_type": "code",
   "execution_count": 9,
   "metadata": {},
   "outputs": [],
   "source": [
    "data = HistoricalStockData(\"data/portfolio.csv\")\n",
    "schema = data.schema"
   ]
  },
  {
   "cell_type": "code",
   "execution_count": 10,
   "metadata": {},
   "outputs": [
    {
     "data": {
      "text/html": [
       "<div>\n",
       "<style scoped>\n",
       "    .dataframe tbody tr th:only-of-type {\n",
       "        vertical-align: middle;\n",
       "    }\n",
       "\n",
       "    .dataframe tbody tr th {\n",
       "        vertical-align: top;\n",
       "    }\n",
       "\n",
       "    .dataframe thead th {\n",
       "        text-align: right;\n",
       "    }\n",
       "</style>\n",
       "<table border=\"1\" class=\"dataframe\">\n",
       "  <thead>\n",
       "    <tr style=\"text-align: right;\">\n",
       "      <th></th>\n",
       "      <th>date</th>\n",
       "      <th>high</th>\n",
       "      <th>low</th>\n",
       "      <th>open</th>\n",
       "      <th>close</th>\n",
       "      <th>volume</th>\n",
       "      <th>Adj Close</th>\n",
       "      <th>symbol</th>\n",
       "    </tr>\n",
       "  </thead>\n",
       "  <tbody>\n",
       "    <tr>\n",
       "      <th>0</th>\n",
       "      <td>2019-01-02</td>\n",
       "      <td>230.850006</td>\n",
       "      <td>226.020004</td>\n",
       "      <td>226.179993</td>\n",
       "      <td>229.990005</td>\n",
       "      <td>4891300.0</td>\n",
       "      <td>225.350449</td>\n",
       "      <td>VOO</td>\n",
       "    </tr>\n",
       "    <tr>\n",
       "      <th>1</th>\n",
       "      <td>2019-01-02</td>\n",
       "      <td>15.333000</td>\n",
       "      <td>14.890000</td>\n",
       "      <td>14.920000</td>\n",
       "      <td>15.120000</td>\n",
       "      <td>1382500.0</td>\n",
       "      <td>14.909319</td>\n",
       "      <td>PDBC</td>\n",
       "    </tr>\n",
       "    <tr>\n",
       "      <th>2</th>\n",
       "      <td>2019-01-02</td>\n",
       "      <td>122.160004</td>\n",
       "      <td>121.339996</td>\n",
       "      <td>121.660004</td>\n",
       "      <td>122.150002</td>\n",
       "      <td>19841500.0</td>\n",
       "      <td>119.344078</td>\n",
       "      <td>TLT</td>\n",
       "    </tr>\n",
       "    <tr>\n",
       "      <th>3</th>\n",
       "      <td>2019-01-02</td>\n",
       "      <td>47.910000</td>\n",
       "      <td>47.860001</td>\n",
       "      <td>47.860001</td>\n",
       "      <td>47.910000</td>\n",
       "      <td>771400.0</td>\n",
       "      <td>46.986149</td>\n",
       "      <td>VTIP</td>\n",
       "    </tr>\n",
       "    <tr>\n",
       "      <th>4</th>\n",
       "      <td>2019-01-02</td>\n",
       "      <td>22.100000</td>\n",
       "      <td>21.850000</td>\n",
       "      <td>21.930000</td>\n",
       "      <td>22.100000</td>\n",
       "      <td>876200.0</td>\n",
       "      <td>21.076557</td>\n",
       "      <td>EWS</td>\n",
       "    </tr>\n",
       "    <tr>\n",
       "      <th>...</th>\n",
       "      <td>...</td>\n",
       "      <td>...</td>\n",
       "      <td>...</td>\n",
       "      <td>...</td>\n",
       "      <td>...</td>\n",
       "      <td>...</td>\n",
       "      <td>...</td>\n",
       "      <td>...</td>\n",
       "    </tr>\n",
       "    <tr>\n",
       "      <th>2767</th>\n",
       "      <td>2019-12-31</td>\n",
       "      <td>27.180000</td>\n",
       "      <td>27.000000</td>\n",
       "      <td>27.110001</td>\n",
       "      <td>27.090000</td>\n",
       "      <td>132900.0</td>\n",
       "      <td>27.090000</td>\n",
       "      <td>TUR</td>\n",
       "    </tr>\n",
       "    <tr>\n",
       "      <th>2768</th>\n",
       "      <td>2019-12-31</td>\n",
       "      <td>16.650000</td>\n",
       "      <td>16.510000</td>\n",
       "      <td>16.520000</td>\n",
       "      <td>16.559999</td>\n",
       "      <td>1780800.0</td>\n",
       "      <td>16.559999</td>\n",
       "      <td>PDBC</td>\n",
       "    </tr>\n",
       "    <tr>\n",
       "      <th>2769</th>\n",
       "      <td>2019-12-31</td>\n",
       "      <td>295.989990</td>\n",
       "      <td>294.170013</td>\n",
       "      <td>294.529999</td>\n",
       "      <td>295.799988</td>\n",
       "      <td>2512700.0</td>\n",
       "      <td>295.799988</td>\n",
       "      <td>VOO</td>\n",
       "    </tr>\n",
       "    <tr>\n",
       "      <th>2770</th>\n",
       "      <td>2019-12-31</td>\n",
       "      <td>136.460007</td>\n",
       "      <td>135.380005</td>\n",
       "      <td>136.210007</td>\n",
       "      <td>135.479996</td>\n",
       "      <td>10707400.0</td>\n",
       "      <td>135.479996</td>\n",
       "      <td>TLT</td>\n",
       "    </tr>\n",
       "    <tr>\n",
       "      <th>2771</th>\n",
       "      <td>2019-12-31</td>\n",
       "      <td>59.090000</td>\n",
       "      <td>58.849998</td>\n",
       "      <td>58.950001</td>\n",
       "      <td>59.090000</td>\n",
       "      <td>219900.0</td>\n",
       "      <td>59.090000</td>\n",
       "      <td>VNQI</td>\n",
       "    </tr>\n",
       "  </tbody>\n",
       "</table>\n",
       "<p>2772 rows × 8 columns</p>\n",
       "</div>"
      ],
      "text/plain": [
       "           date        high         low        open       close      volume  \\\n",
       "0    2019-01-02  230.850006  226.020004  226.179993  229.990005   4891300.0   \n",
       "1    2019-01-02   15.333000   14.890000   14.920000   15.120000   1382500.0   \n",
       "2    2019-01-02  122.160004  121.339996  121.660004  122.150002  19841500.0   \n",
       "3    2019-01-02   47.910000   47.860001   47.860001   47.910000    771400.0   \n",
       "4    2019-01-02   22.100000   21.850000   21.930000   22.100000    876200.0   \n",
       "...         ...         ...         ...         ...         ...         ...   \n",
       "2767 2019-12-31   27.180000   27.000000   27.110001   27.090000    132900.0   \n",
       "2768 2019-12-31   16.650000   16.510000   16.520000   16.559999   1780800.0   \n",
       "2769 2019-12-31  295.989990  294.170013  294.529999  295.799988   2512700.0   \n",
       "2770 2019-12-31  136.460007  135.380005  136.210007  135.479996  10707400.0   \n",
       "2771 2019-12-31   59.090000   58.849998   58.950001   59.090000    219900.0   \n",
       "\n",
       "       Adj Close symbol  \n",
       "0     225.350449    VOO  \n",
       "1      14.909319   PDBC  \n",
       "2     119.344078    TLT  \n",
       "3      46.986149   VTIP  \n",
       "4      21.076557    EWS  \n",
       "...          ...    ...  \n",
       "2767   27.090000    TUR  \n",
       "2768   16.559999   PDBC  \n",
       "2769  295.799988    VOO  \n",
       "2770  135.479996    TLT  \n",
       "2771   59.090000   VNQI  \n",
       "\n",
       "[2772 rows x 8 columns]"
      ]
     },
     "execution_count": 10,
     "metadata": {},
     "output_type": "execute_result"
    }
   ],
   "source": [
    "data"
   ]
  },
  {
   "cell_type": "code",
   "execution_count": 11,
   "metadata": {},
   "outputs": [],
   "source": [
    "strat = Strategy()"
   ]
  },
  {
   "cell_type": "code",
   "execution_count": 12,
   "metadata": {},
   "outputs": [],
   "source": [
    "asset_1 = Asset('VOO', 0.1)\n",
    "asset_2 = Asset('TUR', 0.05)\n",
    "asset_3 = Asset('RSX', 0.05)\n",
    "asset_4 = Asset('EWY', 0.05)\n",
    "asset_5 = Asset('EWS', 0.05)\n",
    "asset_6 = Asset('VTIP', 0.10)\n",
    "asset_7 = Asset('TLT', 0.20)\n",
    "asset_8 = Asset('BWX', 0.10)\n",
    "asset_9 = Asset('PDBC', 0.05)\n",
    "asset_10 = Asset('IAU', 0.15)\n",
    "asset_11 = Asset('VNQI', 0.10)"
   ]
  },
  {
   "cell_type": "code",
   "execution_count": 13,
   "metadata": {},
   "outputs": [
    {
     "data": {
      "text/plain": [
       "<strategy.strategy.Strategy at 0x1174a7ad0>"
      ]
     },
     "execution_count": 13,
     "metadata": {},
     "output_type": "execute_result"
    }
   ],
   "source": [
    "strat.add_assets([\n",
    "    asset_1, asset_2, asset_3, asset_4, asset_5, asset_6, asset_7, asset_8,\n",
    "    asset_9, asset_10, asset_11\n",
    "])"
   ]
  },
  {
   "cell_type": "code",
   "execution_count": 14,
   "metadata": {},
   "outputs": [],
   "source": [
    "bt = Backtest(schema)\n",
    "bt.strategy = strat\n",
    "bt.data = data\n",
    "bt.stop_if_broke = False"
   ]
  },
  {
   "cell_type": "code",
   "execution_count": 15,
   "metadata": {},
   "outputs": [
    {
     "name": "stderr",
     "output_type": "stream",
     "text": [
      "0% [██████████████████████████████] 100% | ETA: 00:00:00\n",
      "Total time elapsed: 00:00:04\n"
     ]
    },
    {
     "data": {
      "text/html": [
       "<div>\n",
       "<style scoped>\n",
       "    .dataframe tbody tr th:only-of-type {\n",
       "        vertical-align: middle;\n",
       "    }\n",
       "\n",
       "    .dataframe tbody tr th {\n",
       "        vertical-align: top;\n",
       "    }\n",
       "\n",
       "    .dataframe thead th {\n",
       "        text-align: right;\n",
       "    }\n",
       "</style>\n",
       "<table border=\"1\" class=\"dataframe\">\n",
       "  <thead>\n",
       "    <tr style=\"text-align: right;\">\n",
       "      <th></th>\n",
       "      <th>capital</th>\n",
       "      <th>cash</th>\n",
       "      <th>total_value</th>\n",
       "      <th>% change</th>\n",
       "      <th>accumulated return</th>\n",
       "    </tr>\n",
       "  </thead>\n",
       "  <tbody>\n",
       "    <tr>\n",
       "      <th>2019-01-01</th>\n",
       "      <td>1.000000e+06</td>\n",
       "      <td>1000000.000000</td>\n",
       "      <td>NaN</td>\n",
       "      <td>NaN</td>\n",
       "      <td>NaN</td>\n",
       "    </tr>\n",
       "    <tr>\n",
       "      <th>2019-01-02</th>\n",
       "      <td>1.000000e+06</td>\n",
       "      <td>403.112655</td>\n",
       "      <td>9.995969e+05</td>\n",
       "      <td>0.000000</td>\n",
       "      <td>1.000000</td>\n",
       "    </tr>\n",
       "    <tr>\n",
       "      <th>2019-01-03</th>\n",
       "      <td>9.987008e+05</td>\n",
       "      <td>403.112655</td>\n",
       "      <td>9.982976e+05</td>\n",
       "      <td>-0.001299</td>\n",
       "      <td>0.998701</td>\n",
       "    </tr>\n",
       "    <tr>\n",
       "      <th>2019-01-04</th>\n",
       "      <td>1.008706e+06</td>\n",
       "      <td>403.112655</td>\n",
       "      <td>1.008302e+06</td>\n",
       "      <td>0.010018</td>\n",
       "      <td>1.008706</td>\n",
       "    </tr>\n",
       "    <tr>\n",
       "      <th>2019-01-07</th>\n",
       "      <td>1.010929e+06</td>\n",
       "      <td>403.112655</td>\n",
       "      <td>1.010526e+06</td>\n",
       "      <td>0.002205</td>\n",
       "      <td>1.010929</td>\n",
       "    </tr>\n",
       "    <tr>\n",
       "      <th>...</th>\n",
       "      <td>...</td>\n",
       "      <td>...</td>\n",
       "      <td>...</td>\n",
       "      <td>...</td>\n",
       "      <td>...</td>\n",
       "    </tr>\n",
       "    <tr>\n",
       "      <th>2019-12-24</th>\n",
       "      <td>1.161007e+06</td>\n",
       "      <td>447.309637</td>\n",
       "      <td>1.160560e+06</td>\n",
       "      <td>0.002650</td>\n",
       "      <td>1.161007</td>\n",
       "    </tr>\n",
       "    <tr>\n",
       "      <th>2019-12-26</th>\n",
       "      <td>1.166209e+06</td>\n",
       "      <td>447.309637</td>\n",
       "      <td>1.165761e+06</td>\n",
       "      <td>0.004480</td>\n",
       "      <td>1.166209</td>\n",
       "    </tr>\n",
       "    <tr>\n",
       "      <th>2019-12-27</th>\n",
       "      <td>1.168988e+06</td>\n",
       "      <td>447.309637</td>\n",
       "      <td>1.168541e+06</td>\n",
       "      <td>0.002383</td>\n",
       "      <td>1.168988</td>\n",
       "    </tr>\n",
       "    <tr>\n",
       "      <th>2019-12-30</th>\n",
       "      <td>1.166540e+06</td>\n",
       "      <td>447.309637</td>\n",
       "      <td>1.166092e+06</td>\n",
       "      <td>-0.002094</td>\n",
       "      <td>1.166540</td>\n",
       "    </tr>\n",
       "    <tr>\n",
       "      <th>2019-12-31</th>\n",
       "      <td>1.166803e+06</td>\n",
       "      <td>447.309637</td>\n",
       "      <td>1.166356e+06</td>\n",
       "      <td>0.000226</td>\n",
       "      <td>1.166803</td>\n",
       "    </tr>\n",
       "  </tbody>\n",
       "</table>\n",
       "<p>253 rows × 5 columns</p>\n",
       "</div>"
      ],
      "text/plain": [
       "                 capital            cash   total_value  % change  \\\n",
       "2019-01-01  1.000000e+06  1000000.000000           NaN       NaN   \n",
       "2019-01-02  1.000000e+06      403.112655  9.995969e+05  0.000000   \n",
       "2019-01-03  9.987008e+05      403.112655  9.982976e+05 -0.001299   \n",
       "2019-01-04  1.008706e+06      403.112655  1.008302e+06  0.010018   \n",
       "2019-01-07  1.010929e+06      403.112655  1.010526e+06  0.002205   \n",
       "...                  ...             ...           ...       ...   \n",
       "2019-12-24  1.161007e+06      447.309637  1.160560e+06  0.002650   \n",
       "2019-12-26  1.166209e+06      447.309637  1.165761e+06  0.004480   \n",
       "2019-12-27  1.168988e+06      447.309637  1.168541e+06  0.002383   \n",
       "2019-12-30  1.166540e+06      447.309637  1.166092e+06 -0.002094   \n",
       "2019-12-31  1.166803e+06      447.309637  1.166356e+06  0.000226   \n",
       "\n",
       "            accumulated return  \n",
       "2019-01-01                 NaN  \n",
       "2019-01-02            1.000000  \n",
       "2019-01-03            0.998701  \n",
       "2019-01-04            1.008706  \n",
       "2019-01-07            1.010929  \n",
       "...                        ...  \n",
       "2019-12-24            1.161007  \n",
       "2019-12-26            1.166209  \n",
       "2019-12-27            1.168988  \n",
       "2019-12-30            1.166540  \n",
       "2019-12-31            1.166803  \n",
       "\n",
       "[253 rows x 5 columns]"
      ]
     },
     "execution_count": 15,
     "metadata": {},
     "output_type": "execute_result"
    }
   ],
   "source": [
    "bt.run(initial_capital=1_000_000)"
   ]
  },
  {
   "cell_type": "code",
   "execution_count": null,
   "metadata": {},
   "outputs": [
    {
     "data": {
      "application/vnd.vegalite.v3+json": {
       "$schema": "https://vega.github.io/schema/vega-lite/v3.4.0.json",
       "config": {
        "mark": {
         "tooltip": null
        },
        "view": {
         "height": 300,
         "width": 400
        }
       },
       "data": {
        "name": "data-43bc2ed72dd9ab9ca7c17b62ef7caa1e"
       },
       "datasets": {
        "data-43bc2ed72dd9ab9ca7c17b62ef7caa1e": [
         {
          "% change": null,
          "accumulated return": null,
          "capital": 1000000,
          "cash": 1000000,
          "index": "2019-01-01T00:00:00",
          "total_value": null
         },
         {
          "% change": 0,
          "accumulated return": 1,
          "capital": 1000000,
          "cash": 403.1126546859741,
          "index": "2019-01-02T00:00:00",
          "total_value": 999596.887345314
         },
         {
          "% change": -0.0012992443809509702,
          "accumulated return": 0.998700755619049,
          "capital": 998700.7556190491,
          "cash": 403.1126546859741,
          "index": "2019-01-03T00:00:00",
          "total_value": 998297.6429643631
         },
         {
          "% change": 0.010017772279682369,
          "accumulated return": 1.0087055123643873,
          "capital": 1008705.5123643875,
          "cash": 403.1126546859741,
          "index": "2019-01-04T00:00:00",
          "total_value": 1008302.3997097015
         },
         {
          "% change": 0.002204660702090022,
          "accumulated return": 1.0109293657674787,
          "capital": 1010929.365767479,
          "cash": 403.1126546859741,
          "index": "2019-01-07T00:00:00",
          "total_value": 1010526.253112793
         },
         {
          "% change": 0.000515881069494295,
          "accumulated return": 1.011450885089874,
          "capital": 1011450.8850898743,
          "cash": 403.1126546859741,
          "index": "2019-01-08T00:00:00",
          "total_value": 1011047.7724351883
         },
         {
          "% change": 0.0068216669096126115,
          "accumulated return": 1.01835066612339,
          "capital": 1018350.6661233902,
          "cash": 403.1126546859741,
          "index": "2019-01-09T00:00:00",
          "total_value": 1017947.5534687042
         },
         {
          "% change": 0.000769932925444472,
          "accumulated return": 1.0191347278308869,
          "capital": 1019134.7278308868,
          "cash": 403.1126546859741,
          "index": "2019-01-10T00:00:00",
          "total_value": 1018731.6151762009
         },
         {
          "% change": -0.0004622806127192458,
          "accumulated return": 1.0186636016044617,
          "capital": 1018663.6016044617,
          "cash": 403.1126546859741,
          "index": "2019-01-11T00:00:00",
          "total_value": 1018260.4889497757
         },
         {
          "% change": -0.002552297189245545,
          "accumulated return": 1.0160636693573,
          "capital": 1016063.6693572998,
          "cash": 403.1126546859741,
          "index": "2019-01-14T00:00:00",
          "total_value": 1015660.5567026138
         },
         {
          "% change": 0.002386746968450426,
          "accumulated return": 1.0184887562398912,
          "capital": 1018488.756239891,
          "cash": 403.1126546859741,
          "index": "2019-01-15T00:00:00",
          "total_value": 1018085.6435852051
         },
         {
          "% change": 0.006485368345748643,
          "accumulated return": 1.0250940309801102,
          "capital": 1025094.0309801102,
          "cash": 403.1126546859741,
          "index": "2019-01-16T00:00:00",
          "total_value": 1024690.9183254242
         },
         {
          "% change": 0.0012639786654555785,
          "accumulated return": 1.0263897279653549,
          "capital": 1026389.7279653549,
          "cash": 403.1126546859741,
          "index": "2019-01-17T00:00:00",
          "total_value": 1025986.615310669
         },
         {
          "% change": 0.00211310821247368,
          "accumulated return": 1.028558600528717,
          "capital": 1028558.600528717,
          "cash": 403.1126546859741,
          "index": "2019-01-18T00:00:00",
          "total_value": 1028155.4878740311
         },
         {
          "% change": -0.004414434088781394,
          "accumulated return": 1.0240180963802339,
          "capital": 1024018.0963802338,
          "cash": 403.1126546859741,
          "index": "2019-01-22T00:00:00",
          "total_value": 1023614.9837255478
         },
         {
          "% change": 0.0035960312390337368,
          "accumulated return": 1.027700497444153,
          "capital": 1027700.4974441528,
          "cash": 403.1126546859741,
          "index": "2019-01-23T00:00:00",
          "total_value": 1027297.3847894669
         },
         {
          "% change": 0.0037492236322473893,
          "accumulated return": 1.031553576436043,
          "capital": 1031553.5764360428,
          "cash": 403.1126546859741,
          "index": "2019-01-24T00:00:00",
          "total_value": 1031150.4637813568
         },
         {
          "% change": 0.006059688086419657,
          "accumulated return": 1.037804469353676,
          "capital": 1037804.4693536758,
          "cash": 403.1126546859741,
          "index": "2019-01-25T00:00:00",
          "total_value": 1037401.3566989899
         },
         {
          "% change": -0.0028227551667387996,
          "accumulated return": 1.0348750014257433,
          "capital": 1034875.0014257431,
          "cash": 403.1126546859741,
          "index": "2019-01-28T00:00:00",
          "total_value": 1034471.8887710571
         },
         {
          "% change": 0.005208742634250418,
          "accumulated return": 1.0402653989667896,
          "capital": 1040265.3989667892,
          "cash": 403.1126546859741,
          "index": "2019-01-29T00:00:00",
          "total_value": 1039862.2863121033
         },
         {
          "% change": 0.009722744846105913,
          "accumulated return": 1.0503796340131764,
          "capital": 1050379.634013176,
          "cash": 403.1126546859741,
          "index": "2019-01-30T00:00:00",
          "total_value": 1049976.52135849
         },
         {
          "% change": 0.002270120916235019,
          "accumulated return": 1.052764122790337,
          "capital": 1052764.1227903366,
          "cash": 403.1126546859741,
          "index": "2019-01-31T00:00:00",
          "total_value": 1052361.0101356506
         },
         {
          "% change": 0,
          "accumulated return": 1.052764122790337,
          "capital": 1052764.1227903366,
          "cash": 425.5575408935547,
          "index": "2019-02-01T00:00:00",
          "total_value": 1052338.565249443
         },
         {
          "% change": -0.0009864434445734371,
          "accumulated return": 1.0517256305227285,
          "capital": 1051725.630522728,
          "cash": 425.5575408935547,
          "index": "2019-02-04T00:00:00",
          "total_value": 1051300.0729818344
         },
         {
          "% change": 0.003959504691010585,
          "accumulated return": 1.0558899430904394,
          "capital": 1055889.9430904388,
          "cash": 425.5575408935547,
          "index": "2019-02-05T00:00:00",
          "total_value": 1055464.3855495453
         },
         {
          "% change": -0.003932425592744315,
          "accumulated return": 1.051737734455109,
          "capital": 1051737.7344551086,
          "cash": 425.5575408935547,
          "index": "2019-02-06T00:00:00",
          "total_value": 1051312.176914215
         },
         {
          "% change": -0.002526600044983729,
          "accumulated return": 1.0490804138479237,
          "capital": 1049080.4138479233,
          "cash": 425.5575408935547,
          "index": "2019-02-07T00:00:00",
          "total_value": 1048654.8563070297
         },
         {
          "% change": 0.001212175885912048,
          "accumulated return": 1.0503520838279727,
          "capital": 1050352.0838279724,
          "cash": 425.5575408935547,
          "index": "2019-02-08T00:00:00",
          "total_value": 1049926.5262870789
         },
         {
          "% change": -0.0023340658306397755,
          "accumulated return": 1.0479004929189686,
          "capital": 1047900.4929189682,
          "cash": 425.5575408935547,
          "index": "2019-02-11T00:00:00",
          "total_value": 1047474.9353780746
         },
         {
          "% change": 0.0024438611626396156,
          "accumulated return": 1.0504614162359243,
          "capital": 1050461.4162359238,
          "cash": 425.5575408935547,
          "index": "2019-02-12T00:00:00",
          "total_value": 1050035.8586950302
         },
         {
          "% change": -0.004320522526899739,
          "accumulated return": 1.0459228740234379,
          "capital": 1045922.8740234375,
          "cash": 425.5575408935547,
          "index": "2019-02-13T00:00:00",
          "total_value": 1045497.316482544
         },
         {
          "% change": 0.0038570903613412977,
          "accumulated return": 1.04995709305954,
          "capital": 1049957.0930595398,
          "cash": 425.5575408935547,
          "index": "2019-02-14T00:00:00",
          "total_value": 1049531.5355186462
         },
         {
          "% change": 0.0047674539070265975,
          "accumulated return": 1.0549627151050571,
          "capital": 1054962.7151050568,
          "cash": 425.5575408935547,
          "index": "2019-02-15T00:00:00",
          "total_value": 1054537.1575641632
         },
         {
          "% change": 0.0043089584669127046,
          "accumulated return": 1.0595085056285862,
          "capital": 1059508.5056285858,
          "cash": 425.5575408935547,
          "index": "2019-02-19T00:00:00",
          "total_value": 1059082.9480876923
         },
         {
          "% change": 0.0003561079808773737,
          "accumulated return": 1.059885805063248,
          "capital": 1059885.8050632477,
          "cash": 425.5575408935547,
          "index": "2019-02-20T00:00:00",
          "total_value": 1059460.2475223541
         },
         {
          "% change": -0.004669549547527185,
          "accumulated return": 1.0549366157817845,
          "capital": 1054936.615781784,
          "cash": 425.5575408935547,
          "index": "2019-02-21T00:00:00",
          "total_value": 1054511.0582408905
         },
         {
          "% change": 0.004504687338915181,
          "accumulated return": 1.0596887753982547,
          "capital": 1059688.7753982544,
          "cash": 425.5575408935547,
          "index": "2019-02-22T00:00:00",
          "total_value": 1059263.2178573608
         },
         {
          "% change": 0.0002054561291975343,
          "accumulated return": 1.0599064949522021,
          "capital": 1059906.4949522018,
          "cash": 425.5575408935547,
          "index": "2019-02-25T00:00:00",
          "total_value": 1059480.9374113083
         },
         {
          "% change": 0.0014998989319479072,
          "accumulated return": 1.0614962475719456,
          "capital": 1061496.2475719452,
          "cash": 425.5575408935547,
          "index": "2019-02-26T00:00:00",
          "total_value": 1061070.6900310516
         },
         {
          "% change": -0.005199261731887006,
          "accumulated return": 1.055977250753403,
          "capital": 1055977.2507534027,
          "cash": 425.5575408935547,
          "index": "2019-02-27T00:00:00",
          "total_value": 1055551.6932125092
         },
         {
          "% change": -0.005526585576125731,
          "accumulated return": 1.0501413021106725,
          "capital": 1050141.302110672,
          "cash": 425.5575408935547,
          "index": "2019-02-28T00:00:00",
          "total_value": 1049715.7445697784
         },
         {
          "% change": 0,
          "accumulated return": 1.0501413021106725,
          "capital": 1050141.302110672,
          "cash": 432.1398468017578,
          "index": "2019-03-01T00:00:00",
          "total_value": 1049709.1622638702
         },
         {
          "% change": 0.001410071459587936,
          "accumulated return": 1.0516220763893132,
          "capital": 1051622.0763893127,
          "cash": 432.1398468017578,
          "index": "2019-03-04T00:00:00",
          "total_value": 1051189.936542511
         },
         {
          "% change": 0.0009535955225887793,
          "accumulated return": 1.0526248984928135,
          "capital": 1052624.898492813,
          "cash": 432.1398468017578,
          "index": "2019-03-05T00:00:00",
          "total_value": 1052192.7586460114
         },
         {
          "% change": -0.0018873316464007583,
          "accumulated return": 1.0506382462100987,
          "capital": 1050638.2462100983,
          "cash": 432.1398468017578,
          "index": "2019-03-06T00:00:00",
          "total_value": 1050206.1063632965
         },
         {
          "% change": -0.0030519981014746067,
          "accumulated return": 1.0474317002773288,
          "capital": 1047431.7002773285,
          "cash": 432.1398468017578,
          "index": "2019-03-07T00:00:00",
          "total_value": 1046999.5604305267
         },
         {
          "% change": 0.001864504454123006,
          "accumulated return": 1.0493846413478856,
          "capital": 1049384.6413478851,
          "cash": 432.1398468017578,
          "index": "2019-03-08T00:00:00",
          "total_value": 1048952.5015010834
         },
         {
          "% change": 0.0025736546975105856,
          "accumulated return": 1.052085395059586,
          "capital": 1052085.3950595856,
          "cash": 432.1398468017578,
          "index": "2019-03-11T00:00:00",
          "total_value": 1051653.2552127838
         },
         {
          "% change": 0.00489602650804688,
          "accumulated return": 1.0572364330425268,
          "capital": 1057236.4330425262,
          "cash": 432.1398468017578,
          "index": "2019-03-12T00:00:00",
          "total_value": 1056804.2931957245
         },
         {
          "% change": 0.002190652798305992,
          "accumulated return": 1.0595524709930424,
          "capital": 1059552.470993042,
          "cash": 432.1398468017578,
          "index": "2019-03-13T00:00:00",
          "total_value": 1059120.3311462402
         },
         {
          "% change": -0.004187429198914905,
          "accumulated return": 1.0551156700382236,
          "capital": 1055115.6700382233,
          "cash": 432.1398468017578,
          "index": "2019-03-14T00:00:00",
          "total_value": 1054683.5301914215
         },
         {
          "% change": 0.006373858230571017,
          "accumulated return": 1.0618408277359013,
          "capital": 1061840.8277359009,
          "cash": 432.1398468017578,
          "index": "2019-03-15T00:00:00",
          "total_value": 1061408.6878890991
         },
         {
          "% change": 0.003334568973422991,
          "accumulated return": 1.0653816092147832,
          "capital": 1065381.6092147827,
          "cash": 432.1398468017578,
          "index": "2019-03-18T00:00:00",
          "total_value": 1064949.469367981
         },
         {
          "% change": 0.0005757819672678188,
          "accumulated return": 1.065995036733628,
          "capital": 1065995.0367336273,
          "cash": 432.1398468017578,
          "index": "2019-03-19T00:00:00",
          "total_value": 1065562.8968868256
         },
         {
          "% change": 0.004912990238142845,
          "accumulated return": 1.071232259943009,
          "capital": 1071232.2599430084,
          "cash": 432.1398468017578,
          "index": "2019-03-20T00:00:00",
          "total_value": 1070800.1200962067
         },
         {
          "% change": 0.0008708419472425177,
          "accumulated return": 1.072165133930207,
          "capital": 1072165.1339302063,
          "cash": 432.1398468017578,
          "index": "2019-03-21T00:00:00",
          "total_value": 1071732.9940834045
         },
         {
          "% change": -0.008440563116746014,
          "accumulated return": 1.0631154564456946,
          "capital": 1063115.456445694,
          "cash": 432.1398468017578,
          "index": "2019-03-22T00:00:00",
          "total_value": 1062683.3165988922
         },
         {
          "% change": 0.005527216243250699,
          "accumulated return": 1.0689915254650122,
          "capital": 1068991.5254650116,
          "cash": 432.1398468017578,
          "index": "2019-03-25T00:00:00",
          "total_value": 1068559.3856182098
         },
         {
          "% change": 0.00045022533119642993,
          "accumulated return": 1.0694728125286108,
          "capital": 1069472.8125286102,
          "cash": 432.1398468017578,
          "index": "2019-03-26T00:00:00",
          "total_value": 1069040.6726818085
         },
         {
          "% change": -0.0049844299241291745,
          "accumulated return": 1.0641421002388005,
          "capital": 1064142.1002388,
          "cash": 432.1398468017578,
          "index": "2019-03-27T00:00:00",
          "total_value": 1063709.9603919983
         },
         {
          "% change": -0.0007612727998299595,
          "accumulated return": 1.0633319978027347,
          "capital": 1063331.9978027344,
          "cash": 432.1398468017578,
          "index": "2019-03-28T00:00:00",
          "total_value": 1062899.8579559326
         },
         {
          "% change": 0.002263024520113177,
          "accumulated return": 1.0657383441867831,
          "capital": 1065738.3441867828,
          "cash": 432.1398468017578,
          "index": "2019-03-29T00:00:00",
          "total_value": 1065306.204339981
         },
         {
          "% change": 0,
          "accumulated return": 1.0657383441867831,
          "capital": 1065738.3441867828,
          "cash": 461.3523693084717,
          "index": "2019-04-01T00:00:00",
          "total_value": 1065276.9918174744
         },
         {
          "% change": 0.00023805719182456997,
          "accumulated return": 1.06599205086422,
          "capital": 1065992.0508642197,
          "cash": 461.3523693084717,
          "index": "2019-04-02T00:00:00",
          "total_value": 1065530.6984949112
         },
         {
          "% change": -4.527556505629082e-05,
          "accumulated return": 1.0659437874717717,
          "capital": 1065943.7874717712,
          "cash": 461.3523693084717,
          "index": "2019-04-03T00:00:00",
          "total_value": 1065482.4351024628
         },
         {
          "% change": 0.0034638367864971986,
          "accumulated return": 1.0696360427751546,
          "capital": 1069636.042775154,
          "cash": 461.3523693084717,
          "index": "2019-04-04T00:00:00",
          "total_value": 1069174.6904058456
         },
         {
          "% change": 0.0009250940625449289,
          "accumulated return": 1.0706255567274099,
          "capital": 1070625.5567274094,
          "cash": 461.3523693084717,
          "index": "2019-04-05T00:00:00",
          "total_value": 1070164.204358101
         },
         {
          "% change": -0.0006301699815962625,
          "accumulated return": 1.0699508806400304,
          "capital": 1069950.88064003,
          "cash": 461.3523693084717,
          "index": "2019-04-08T00:00:00",
          "total_value": 1069489.5282707214
         },
         {
          "% change": 0.00030253032429405913,
          "accumulated return": 1.0702745732269292,
          "capital": 1070274.5732269287,
          "cash": 461.3523693084717,
          "index": "2019-04-09T00:00:00",
          "total_value": 1069813.2208576202
         },
         {
          "% change": 0.0039583119836701375,
          "accumulated return": 1.0745110538959508,
          "capital": 1074511.0538959503,
          "cash": 461.3523693084717,
          "index": "2019-04-10T00:00:00",
          "total_value": 1074049.7015266418
         },
         {
          "% change": -0.0070380309734092705,
          "accumulated return": 1.0669486118173606,
          "capital": 1066948.61181736,
          "cash": 461.3523693084717,
          "index": "2019-04-11T00:00:00",
          "total_value": 1066487.2594480515
         },
         {
          "% change": 0.00042343337306571804,
          "accumulated return": 1.0674003934669503,
          "capital": 1067400.3934669495,
          "cash": 461.3523693084717,
          "index": "2019-04-12T00:00:00",
          "total_value": 1066939.041097641
         },
         {
          "% change": -0.0009940060537210194,
          "accumulated return": 1.0663393910141,
          "capital": 1066339.3910140991,
          "cash": 461.3523693084717,
          "index": "2019-04-15T00:00:00",
          "total_value": 1065878.0386447906
         },
         {
          "% change": -0.0009944646422330727,
          "accumulated return": 1.065278954193116,
          "capital": 1065278.9541931152,
          "cash": 461.3523693084717,
          "index": "2019-04-16T00:00:00",
          "total_value": 1064817.6018238068
         },
         {
          "% change": 0.00032101432980180533,
          "accumulated return": 1.0656209240026482,
          "capital": 1065620.9240026474,
          "cash": 461.3523693084717,
          "index": "2019-04-17T00:00:00",
          "total_value": 1065159.571633339
         },
         {
          "% change": -0.0010230355131952695,
          "accumulated return": 1.0645307559537895,
          "capital": 1064530.7559537888,
          "cash": 461.3523693084717,
          "index": "2019-04-18T00:00:00",
          "total_value": 1064069.4035844803
         },
         {
          "% change": -0.0011002300970462953,
          "accumulated return": 1.0633595271768577,
          "capital": 1063359.527176857,
          "cash": 461.3523693084717,
          "index": "2019-04-22T00:00:00",
          "total_value": 1062898.1748075485
         },
         {
          "% change": 0.0009174984367859018,
          "accumulated return": 1.0643351578807838,
          "capital": 1064335.157880783,
          "cash": 461.3523693084717,
          "index": "2019-04-23T00:00:00",
          "total_value": 1063873.8055114746
         },
         {
          "% change": -0.001499850746105147,
          "accumulated return": 1.0627388140001304,
          "capital": 1062738.8140001297,
          "cash": 461.3523693084717,
          "index": "2019-04-24T00:00:00",
          "total_value": 1062277.4616308212
         },
         {
          "% change": -0.002033052367217736,
          "accumulated return": 1.0605782103385932,
          "capital": 1060578.2103385925,
          "cash": 461.3523693084717,
          "index": "2019-04-25T00:00:00",
          "total_value": 1060116.857969284
         },
         {
          "% change": 0.0025281679793258682,
          "accumulated return": 1.063259530209542,
          "capital": 1063259.5302095413,
          "cash": 461.3523693084717,
          "index": "2019-04-26T00:00:00",
          "total_value": 1062798.1778402328
         },
         {
          "% change": -0.0002420440180671557,
          "accumulated return": 1.063002174600602,
          "capital": 1063002.1746006012,
          "cash": 461.3523693084717,
          "index": "2019-04-29T00:00:00",
          "total_value": 1062540.8222312927
         },
         {
          "% change": 0.0015283779599508662,
          "accumulated return": 1.0646268436956414,
          "capital": 1064626.8436956406,
          "cash": 461.3523693084717,
          "index": "2019-04-30T00:00:00",
          "total_value": 1064165.491326332
         },
         {
          "% change": 0,
          "accumulated return": 1.0646268436956414,
          "capital": 1064626.8436956406,
          "cash": 251.68225955963135,
          "index": "2019-05-01T00:00:00",
          "total_value": 1064375.161436081
         },
         {
          "% change": -0.0026638972779746695,
          "accumulated return": 1.061790787144662,
          "capital": 1061790.787144661,
          "cash": 251.68225955963135,
          "index": "2019-05-02T00:00:00",
          "total_value": 1061539.1048851013
         },
         {
          "% change": 0.004486124545319603,
          "accumulated return": 1.0665541128568659,
          "capital": 1066554.112856865,
          "cash": 251.68225955963135,
          "index": "2019-05-03T00:00:00",
          "total_value": 1066302.4305973053
         },
         {
          "% change": -0.004424768493704878,
          "accumulated return": 1.0618348578214654,
          "capital": 1061834.8578214645,
          "cash": 251.68225955963135,
          "index": "2019-05-06T00:00:00",
          "total_value": 1061583.175561905
         },
         {
          "% change": -0.003834693216600016,
          "accumulated return": 1.0577630468950279,
          "capital": 1057763.0468950272,
          "cash": 251.68225955963135,
          "index": "2019-05-07T00:00:00",
          "total_value": 1057511.3646354675
         },
         {
          "% change": -0.0017667297925600955,
          "accumulated return": 1.0558942654066092,
          "capital": 1055894.2654066086,
          "cash": 251.68225955963135,
          "index": "2019-05-08T00:00:00",
          "total_value": 1055642.583147049
         },
         {
          "% change": -0.0026526704535170254,
          "accumulated return": 1.053093325886727,
          "capital": 1053093.3258867264,
          "cash": 251.68225955963135,
          "index": "2019-05-09T00:00:00",
          "total_value": 1052841.6436271667
         },
         {
          "% change": 0.0035881091587932623,
          "accumulated return": 1.0568719396944053,
          "capital": 1056871.9396944046,
          "cash": 251.68225955963135,
          "index": "2019-05-10T00:00:00",
          "total_value": 1056620.257434845
         },
         {
          "% change": -0.006400473070178547,
          "accumulated return": 1.050107459305764,
          "capital": 1050107.4593057632,
          "cash": 251.68225955963135,
          "index": "2019-05-13T00:00:00",
          "total_value": 1049855.7770462036
         },
         {
          "% change": 0.004818398138242808,
          "accumulated return": 1.0551672951326379,
          "capital": 1055167.295132637,
          "cash": 251.68225955963135,
          "index": "2019-05-14T00:00:00",
          "total_value": 1054915.6128730774
         },
         {
          "% change": 0.0027249319157145457,
          "accumulated return": 1.058042554171563,
          "capital": 1058042.5541715622,
          "cash": 251.68225955963135,
          "index": "2019-05-15T00:00:00",
          "total_value": 1057790.8719120026
         },
         {
          "% change": -0.0009949939526712193,
          "accumulated return": 1.0569898082284934,
          "capital": 1056989.8082284927,
          "cash": 251.68225955963135,
          "index": "2019-05-16T00:00:00",
          "total_value": 1056738.125968933
         },
         {
          "% change": -0.005294795774057559,
          "accumulated return": 1.0513932630586633,
          "capital": 1051393.2630586626,
          "cash": 251.68225955963135,
          "index": "2019-05-17T00:00:00",
          "total_value": 1051141.580799103
         },
         {
          "% change": -0.0005803720056829498,
          "accumulated return": 1.0507830638418205,
          "capital": 1050783.0638418198,
          "cash": 251.68225955963135,
          "index": "2019-05-20T00:00:00",
          "total_value": 1050531.3815822601
         },
         {
          "% change": 0.0013346120211878976,
          "accumulated return": 1.0521854515504845,
          "capital": 1052185.4515504837,
          "cash": 251.68225955963135,
          "index": "2019-05-21T00:00:00",
          "total_value": 1051933.769290924
         },
         {
          "% change": -0.0010325614962242158,
          "accumulated return": 1.051099005366326,
          "capital": 1051099.0053663254,
          "cash": 251.68225955963135,
          "index": "2019-05-22T00:00:00",
          "total_value": 1050847.3231067657
         },
         {
          "% change": 7.079657299513542e-05,
          "accumulated return": 1.0511734195737845,
          "capital": 1051173.4195737839,
          "cash": 251.68225955963135,
          "index": "2019-05-23T00:00:00",
          "total_value": 1050921.7373142242
         },
         {
          "% change": 0.0041636712077237625,
          "accumulated return": 1.0555501600751884,
          "capital": 1055550.1600751877,
          "cash": 251.68225955963135,
          "index": "2019-05-24T00:00:00",
          "total_value": 1055298.477815628
         },
         {
          "% change": -0.0005762541240680319,
          "accumulated return": 1.0549418949422844,
          "capital": 1054941.8949422836,
          "cash": 251.68225955963135,
          "index": "2019-05-28T00:00:00",
          "total_value": 1054690.212682724
         },
         {
          "% change": 0.00099367124546057,
          "accumulated return": 1.0559901603689203,
          "capital": 1055990.1603689194,
          "cash": 251.68225955963135,
          "index": "2019-05-29T00:00:00",
          "total_value": 1055738.4781093597
         },
         {
          "% change": 0.004710763757681091,
          "accumulated return": 1.060964680544854,
          "capital": 1060964.6805448532,
          "cash": 251.68225955963135,
          "index": "2019-05-30T00:00:00",
          "total_value": 1060712.9982852936
         },
         {
          "% change": 0.003319107927187037,
          "accumulated return": 1.064486136826516,
          "capital": 1064486.1368265152,
          "cash": 251.68225955963135,
          "index": "2019-05-31T00:00:00",
          "total_value": 1064234.4545669556
         },
         {
          "% change": 0,
          "accumulated return": 1.064486136826516,
          "capital": 1064486.1368265152,
          "cash": 366.54854106903076,
          "index": "2019-06-03T00:00:00",
          "total_value": 1064119.5882854462
         },
         {
          "% change": 0.00277191804393917,
          "accumulated return": 1.0674368051567085,
          "capital": 1067436.8051567078,
          "cash": 366.54854106903076,
          "index": "2019-06-04T00:00:00",
          "total_value": 1067070.2566156387
         },
         {
          "% change": -0.001634073655202739,
          "accumulated return": 1.065692534794808,
          "capital": 1065692.5347948074,
          "cash": 366.54854106903076,
          "index": "2019-06-05T00:00:00",
          "total_value": 1065325.9862537384
         },
         {
          "% change": 0.0038232016023276305,
          "accumulated return": 1.0697668922014243,
          "capital": 1069766.8922014236,
          "cash": 366.54854106903076,
          "index": "2019-06-06T00:00:00",
          "total_value": 1069400.3436603546
         },
         {
          "% change": 0.007203947910364272,
          "accumulated return": 1.0774734371690757,
          "capital": 1077473.437169075,
          "cash": 366.54854106903076,
          "index": "2019-06-07T00:00:00",
          "total_value": 1077106.888628006
         },
         {
          "% change": -0.00042221740676939845,
          "accumulated return": 1.0770185091285713,
          "capital": 1077018.5091285706,
          "cash": 366.54854106903076,
          "index": "2019-06-10T00:00:00",
          "total_value": 1076651.9605875015
         },
         {
          "% change": 0.001100147008316732,
          "accumulated return": 1.078203387819291,
          "capital": 1078203.3878192902,
          "cash": 366.54854106903076,
          "index": "2019-06-11T00:00:00",
          "total_value": 1077836.8392782211
         },
         {
          "% change": -0.0029639569603260307,
          "accumulated return": 1.0750076393833168,
          "capital": 1075007.639383316,
          "cash": 366.54854106903076,
          "index": "2019-06-12T00:00:00",
          "total_value": 1074641.090842247
         },
         {
          "% change": 0.0028060699481073925,
          "accumulated return": 1.0780241860141762,
          "capital": 1078024.1860141754,
          "cash": 366.54854106903076,
          "index": "2019-06-13T00:00:00",
          "total_value": 1077657.6374731064
         },
         {
          "% change": -0.0011328369073972944,
          "accumulated return": 1.0768029604291924,
          "capital": 1076802.9604291916,
          "cash": 366.54854106903076,
          "index": "2019-06-14T00:00:00",
          "total_value": 1076436.4118881226
         },
         {
          "% change": 0.0014803929859534826,
          "accumulated return": 1.0783970519790658,
          "capital": 1078397.051979065,
          "cash": 366.54854106903076,
          "index": "2019-06-17T00:00:00",
          "total_value": 1078030.503437996
         },
         {
          "% change": 0.009406558998420689,
          "accumulated return": 1.0885410574722298,
          "capital": 1088541.057472229,
          "cash": 366.54854106903076,
          "index": "2019-06-18T00:00:00",
          "total_value": 1088174.50893116
         },
         {
          "% change": 0.0046907551538715175,
          "accumulated return": 1.0936471370477685,
          "capital": 1093647.1370477676,
          "cash": 366.54854106903076,
          "index": "2019-06-19T00:00:00",
          "total_value": 1093280.5885066986
         },
         {
          "% change": 0.009948136654461814,
          "accumulated return": 1.1045268882188806,
          "capital": 1104526.8882188797,
          "cash": 366.54854106903076,
          "index": "2019-06-20T00:00:00",
          "total_value": 1104160.3396778107
         },
         {
          "% change": -0.0022339442512698815,
          "accumulated return": 1.102059436726571,
          "capital": 1102059.4367265701,
          "cash": 366.54854106903076,
          "index": "2019-06-21T00:00:00",
          "total_value": 1101692.888185501
         },
         {
          "% change": 0.005349454496386352,
          "accumulated return": 1.107954853535653,
          "capital": 1107954.8535356522,
          "cash": 366.54854106903076,
          "index": "2019-06-24T00:00:00",
          "total_value": 1107588.3049945831
         },
         {
          "% change": -0.0014648321461763203,
          "accumulated return": 1.1063318856496818,
          "capital": 1106331.885649681,
          "cash": 366.54854106903076,
          "index": "2019-06-25T00:00:00",
          "total_value": 1105965.337108612
         },
         {
          "% change": -0.0014741167311441705,
          "accumulated return": 1.1047010233068473,
          "capital": 1104701.0233068466,
          "cash": 366.54854106903076,
          "index": "2019-06-26T00:00:00",
          "total_value": 1104334.4747657776
         },
         {
          "% change": 0.002719177806783213,
          "accumulated return": 1.107704901812554,
          "capital": 1107704.9018125534,
          "cash": 366.54854106903076,
          "index": "2019-06-27T00:00:00",
          "total_value": 1107338.3532714844
         },
         {
          "% change": 0.0006347670725550536,
          "accumulated return": 1.1084080364103324,
          "capital": 1108408.0364103317,
          "cash": 366.54854106903076,
          "index": "2019-06-28T00:00:00",
          "total_value": 1108041.4878692627
         },
         {
          "% change": 0,
          "accumulated return": 1.1084080364103324,
          "capital": 1108408.0364103317,
          "cash": 207.24219608306885,
          "index": "2019-07-01T00:00:00",
          "total_value": 1108200.7942142487
         },
         {
          "% change": 0.0041051669059122275,
          "accumulated return": 1.1129582363996513,
          "capital": 1112958.2363996506,
          "cash": 207.24219608306885,
          "index": "2019-07-02T00:00:00",
          "total_value": 1112750.9942035675
         },
         {
          "% change": 0.0039924296542002136,
          "accumulated return": 1.1174016438665397,
          "capital": 1117401.643866539,
          "cash": 207.24219608306885,
          "index": "2019-07-03T00:00:00",
          "total_value": 1117194.401670456
         },
         {
          "% change": -0.006269172528579281,
          "accumulated return": 1.1103964601774223,
          "capital": 1110396.4601774216,
          "cash": 207.24219608306885,
          "index": "2019-07-05T00:00:00",
          "total_value": 1110189.2179813385
         },
         {
          "% change": -0.004365632903540084,
          "accumulated return": 1.1055488768548973,
          "capital": 1105548.8768548965,
          "cash": 207.24219608306885,
          "index": "2019-07-08T00:00:00",
          "total_value": 1105341.6346588135
         },
         {
          "% change": -0.0013896793858981793,
          "accumulated return": 1.1040125183706293,
          "capital": 1104012.5183706284,
          "cash": 207.24219608306885,
          "index": "2019-07-09T00:00:00",
          "total_value": 1103805.2761745453
         },
         {
          "% change": 0.006590202628658393,
          "accumulated return": 1.1112881845712672,
          "capital": 1111288.1845712662,
          "cash": 207.24219608306885,
          "index": "2019-07-10T00:00:00",
          "total_value": 1111080.942375183
         },
         {
          "% change": -0.003939688155966237,
          "accumulated return": 1.1069100556726466,
          "capital": 1106910.0556726456,
          "cash": 207.24219608306885,
          "index": "2019-07-11T00:00:00",
          "total_value": 1106702.8134765625
         },
         {
          "% change": 0.0018085750633052289,
          "accumulated return": 1.1089119855966578,
          "capital": 1108911.9855966568,
          "cash": 207.24219608306885,
          "index": "2019-07-12T00:00:00",
          "total_value": 1108704.7434005737
         },
         {
          "% change": 0.00046424091835928216,
          "accumulated return": 1.1094267879152309,
          "capital": 1109426.7879152298,
          "cash": 207.24219608306885,
          "index": "2019-07-15T00:00:00",
          "total_value": 1109219.5457191467
         },
         {
          "% change": -0.003924161430289841,
          "accumulated return": 1.1050732181043637,
          "capital": 1105073.2181043625,
          "cash": 207.24219608306885,
          "index": "2019-07-16T00:00:00",
          "total_value": 1104865.9759082794
         },
         {
          "% change": 0.0036603550787230876,
          "accumulated return": 1.1091181784706128,
          "capital": 1109118.1784706116,
          "cash": 207.24219608306885,
          "index": "2019-07-17T00:00:00",
          "total_value": 1108910.9362745285
         },
         {
          "% change": 0.007305408485777987,
          "accumulated return": 1.1172207398233427,
          "capital": 1117220.7398233414,
          "cash": 207.24219608306885,
          "index": "2019-07-18T00:00:00",
          "total_value": 1117013.4976272583
         },
         {
          "% change": -0.0050768177201305775,
          "accumulated return": 1.11154881377411,
          "capital": 1111548.813774109,
          "cash": 207.24219608306885,
          "index": "2019-07-19T00:00:00",
          "total_value": 1111341.5715780258
         },
         {
          "% change": -0.0003184999024049562,
          "accumulated return": 1.1111947855854047,
          "capital": 1111194.7855854034,
          "cash": 207.24219608306885,
          "index": "2019-07-22T00:00:00",
          "total_value": 1110987.5433893204
         },
         {
          "% change": -0.00048166926137815924,
          "accumulated return": 1.1106595572137845,
          "capital": 1110659.5572137833,
          "cash": 207.24219608306885,
          "index": "2019-07-23T00:00:00",
          "total_value": 1110452.3150177002
         },
         {
          "% change": 0.0021681640210267084,
          "accumulated return": 1.1130676493053449,
          "capital": 1113067.6493053436,
          "cash": 207.24219608306885,
          "index": "2019-07-24T00:00:00",
          "total_value": 1112860.4071092606
         },
         {
          "% change": -0.005107134778037037,
          "accumulated return": 1.1073830628032697,
          "capital": 1107383.0628032684,
          "cash": 207.24219608306885,
          "index": "2019-07-25T00:00:00",
          "total_value": 1107175.8206071854
         },
         {
          "% change": 0.0015975244651404985,
          "accumulated return": 1.1091521343383801,
          "capital": 1109152.134338379,
          "cash": 207.24219608306885,
          "index": "2019-07-26T00:00:00",
          "total_value": 1108944.8921422958
         },
         {
          "% change": 0.001198945071258839,
          "accumulated return": 1.1104819468231213,
          "capital": 1110481.9468231201,
          "cash": 207.24219608306885,
          "index": "2019-07-29T00:00:00",
          "total_value": 1110274.704627037
         },
         {
          "% change": 0.0003812377375596032,
          "accumulated return": 1.110905304448129,
          "capital": 1110905.3044481277,
          "cash": 207.24219608306885,
          "index": "2019-07-30T00:00:00",
          "total_value": 1110698.0622520447
         },
         {
          "% change": -0.0055079448401601505,
          "accumulated return": 1.1047864993085874,
          "capital": 1104786.4993085861,
          "cash": 207.24219608306885,
          "index": "2019-07-31T00:00:00",
          "total_value": 1104579.257112503
         },
         {
          "% change": 0,
          "accumulated return": 1.1047864993085874,
          "capital": 1104786.4993085861,
          "cash": 404.3723077774048,
          "index": "2019-08-01T00:00:00",
          "total_value": 1104382.1270008087
         },
         {
          "% change": -0.00018342305112684087,
          "accumulated return": 1.1045838559980405,
          "capital": 1104583.8559980392,
          "cash": 404.3723077774048,
          "index": "2019-08-02T00:00:00",
          "total_value": 1104179.4836902618
         },
         {
          "% change": -0.005284368027823616,
          "accumulated return": 1.0987468283853543,
          "capital": 1098746.828385353,
          "cash": 404.3723077774048,
          "index": "2019-08-05T00:00:00",
          "total_value": 1098342.4560775757
         },
         {
          "% change": 0.007713794533448004,
          "accumulated return": 1.1072223356637967,
          "capital": 1107222.3356637955,
          "cash": 404.3723077774048,
          "index": "2019-08-06T00:00:00",
          "total_value": 1106817.963356018
         },
         {
          "% change": 0.003130232729614546,
          "accumulated return": 1.1106881992578517,
          "capital": 1110688.1992578506,
          "cash": 404.3723077774048,
          "index": "2019-08-07T00:00:00",
          "total_value": 1110283.8269500732
         },
         {
          "% change": 0.005461575157364784,
          "accumulated return": 1.1167543063344967,
          "capital": 1116754.3063344955,
          "cash": 404.3723077774048,
          "index": "2019-08-08T00:00:00",
          "total_value": 1116349.9340267181
         },
         {
          "% change": -0.0035046731950830745,
          "accumulated return": 1.1128404474515925,
          "capital": 1112840.4474515915,
          "cash": 404.3723077774048,
          "index": "2019-08-09T00:00:00",
          "total_value": 1112436.075143814
         },
         {
          "% change": 0.0013937073074161699,
          "accumulated return": 1.114391421315194,
          "capital": 1114391.4213151932,
          "cash": 404.3723077774048,
          "index": "2019-08-12T00:00:00",
          "total_value": 1113987.0490074158
         },
         {
          "% change": 0.00319392743650182,
          "accumulated return": 1.1179507066507348,
          "capital": 1117950.706650734,
          "cash": 404.3723077774048,
          "index": "2019-08-13T00:00:00",
          "total_value": 1117546.3343429565
         },
         {
          "% change": -0.0049778612293882585,
          "accumulated return": 1.112385703171731,
          "capital": 1112385.70317173,
          "cash": 404.3723077774048,
          "index": "2019-08-14T00:00:00",
          "total_value": 1111981.3308639526
         },
         {
          "% change": 0.006154083797361709,
          "accumulated return": 1.119231418004037,
          "capital": 1119231.418004036,
          "cash": 404.3723077774048,
          "index": "2019-08-15T00:00:00",
          "total_value": 1118827.0456962585
         },
         {
          "% change": -0.0003949436372068238,
          "accumulated return": 1.1187893846769343,
          "capital": 1118789.3846769333,
          "cash": 404.3723077774048,
          "index": "2019-08-16T00:00:00",
          "total_value": 1118385.012369156
         },
         {
          "% change": -0.0042137793804728485,
          "accumulated return": 1.1140750530366907,
          "capital": 1114075.0530366898,
          "cash": 404.3723077774048,
          "index": "2019-08-19T00:00:00",
          "total_value": 1113670.6807289124
         },
         {
          "% change": 0.004207554216639542,
          "accumulated return": 1.1187625842237483,
          "capital": 1118762.5842237473,
          "cash": 404.3723077774048,
          "index": "2019-08-20T00:00:00",
          "total_value": 1118358.2119159698
         },
         {
          "% change": 0.00015743831913295203,
          "accumulated return": 1.1189387203245174,
          "capital": 1118938.7203245163,
          "cash": 404.3723077774048,
          "index": "2019-08-21T00:00:00",
          "total_value": 1118534.348016739
         },
         {
          "% change": -0.0039406199689981936,
          "accumulated return": 1.1145294080591213,
          "capital": 1114529.4080591202,
          "cash": 404.3723077774048,
          "index": "2019-08-22T00:00:00",
          "total_value": 1114125.0357513428
         },
         {
          "% change": 0.001741409665320326,
          "accumulated return": 1.116470260342599,
          "capital": 1116470.260342598,
          "cash": 404.3723077774048,
          "index": "2019-08-23T00:00:00",
          "total_value": 1116065.8880348206
         },
         {
          "% change": 0.00070696883649779,
          "accumulated return": 1.117259570023538,
          "capital": 1117259.5700235367,
          "cash": 404.3723077774048,
          "index": "2019-08-26T00:00:00",
          "total_value": 1116855.1977157593
         },
         {
          "% change": 0.004462302855395839,
          "accumulated return": 1.1222451205930724,
          "capital": 1122245.120593071,
          "cash": 404.3723077774048,
          "index": "2019-08-27T00:00:00",
          "total_value": 1121840.7482852936
         },
         {
          "% change": 0.0021838192253393895,
          "accumulated return": 1.124695901062967,
          "capital": 1124695.9010629654,
          "cash": 404.3723077774048,
          "index": "2019-08-28T00:00:00",
          "total_value": 1124291.528755188
         },
         {
          "% change": 0.0008408914708248894,
          "accumulated return": 1.1256416482534424,
          "capital": 1125641.6482534409,
          "cash": 404.3723077774048,
          "index": "2019-08-29T00:00:00",
          "total_value": 1125237.2759456635
         },
         {
          "% change": -0.0005375833136915809,
          "accumulated return": 1.1250365220861451,
          "capital": 1125036.5220861435,
          "cash": 404.3723077774048,
          "index": "2019-08-30T00:00:00",
          "total_value": 1124632.149778366
         },
         {
          "% change": 0,
          "accumulated return": 1.1250365220861451,
          "capital": 1125036.5220861435,
          "cash": 290.7544279098511,
          "index": "2019-09-03T00:00:00",
          "total_value": 1124745.7676582336
         },
         {
          "% change": 0.010191804009169303,
          "accumulated return": 1.1365026738224047,
          "capital": 1136502.673822403,
          "cash": 290.7544279098511,
          "index": "2019-09-04T00:00:00",
          "total_value": 1136211.919394493
         },
         {
          "% change": -0.005533426249462292,
          "accumulated return": 1.1302139200944916,
          "capital": 1130213.92009449,
          "cash": 290.7544279098511,
          "index": "2019-09-05T00:00:00",
          "total_value": 1129923.1656665802
         },
         {
          "% change": -7.877061122107953e-05,
          "accumulated return": 1.1301248924531953,
          "capital": 1130124.8924531937,
          "cash": 290.7544279098511,
          "index": "2019-09-06T00:00:00",
          "total_value": 1129834.1380252838
         },
         {
          "% change": -0.0028990614377496504,
          "accumulated return": 1.1268485909576431,
          "capital": 1126848.5909576416,
          "cash": 290.7544279098511,
          "index": "2019-09-09T00:00:00",
          "total_value": 1126557.8365297318
         },
         {
          "% change": -0.003988911953810681,
          "accumulated return": 1.1223536911430374,
          "capital": 1122353.691143036,
          "cash": 290.7544279098511,
          "index": "2019-09-10T00:00:00",
          "total_value": 1122062.936715126
         },
         {
          "% change": 0.0022754328183562933,
          "accumulated return": 1.1249075315656676,
          "capital": 1124907.5315656662,
          "cash": 290.7544279098511,
          "index": "2019-09-11T00:00:00",
          "total_value": 1124616.7771377563
         },
         {
          "% change": 0.000982175899041815,
          "accumulated return": 1.126012388631822,
          "capital": 1126012.3886318207,
          "cash": 290.7544279098511,
          "index": "2019-09-12T00:00:00",
          "total_value": 1125721.6342039108
         },
         {
          "% change": -0.0038625211615928023,
          "accumulated return": 1.121663141952516,
          "capital": 1121663.1419525146,
          "cash": 290.7544279098511,
          "index": "2019-09-13T00:00:00",
          "total_value": 1121372.3875246048
         },
         {
          "% change": 0.003969951463276056,
          "accumulated return": 1.1261160901842133,
          "capital": 1126116.0901842117,
          "cash": 290.7544279098511,
          "index": "2019-09-16T00:00:00",
          "total_value": 1125825.3357563019
         },
         {
          "% change": 0.000311017055144136,
          "accumulated return": 1.1264663314943328,
          "capital": 1126466.3314943314,
          "cash": 290.7544279098511,
          "index": "2019-09-17T00:00:00",
          "total_value": 1126175.5770664215
         },
         {
          "% change": -0.0006571229544928281,
          "accumulated return": 1.1257261046104445,
          "capital": 1125726.104610443,
          "cash": 290.7544279098511,
          "index": "2019-09-18T00:00:00",
          "total_value": 1125435.3501825333
         },
         {
          "% change": 0.0003285182758860916,
          "accumulated return": 1.1260959262094512,
          "capital": 1126095.9262094498,
          "cash": 290.7544279098511,
          "index": "2019-09-19T00:00:00",
          "total_value": 1125805.17178154
         },
         {
          "% change": 0.003258429734655399,
          "accumulated return": 1.1297652306594863,
          "capital": 1129765.2306594849,
          "cash": 290.7544279098511,
          "index": "2019-09-20T00:00:00",
          "total_value": 1129474.476231575
         },
         {
          "% change": 0.0020067188549852677,
          "accumulated return": 1.1320323518495574,
          "capital": 1132032.351849556,
          "cash": 290.7544279098511,
          "index": "2019-09-23T00:00:00",
          "total_value": 1131741.5974216461
         },
         {
          "% change": 0.0016776892684973177,
          "accumulated return": 1.133931550377847,
          "capital": 1133931.5503778458,
          "cash": 290.7544279098511,
          "index": "2019-09-24T00:00:00",
          "total_value": 1133640.795949936
         },
         {
          "% change": -0.005896835032937808,
          "accumulated return": 1.1272449430866256,
          "capital": 1127244.9430866241,
          "cash": 290.7544279098511,
          "index": "2019-09-25T00:00:00",
          "total_value": 1126954.1886587143
         },
         {
          "% change": 0.0016078377283152978,
          "accumulated return": 1.129057370035173,
          "capital": 1129057.3700351715,
          "cash": 290.7544279098511,
          "index": "2019-09-26T00:00:00",
          "total_value": 1128766.6156072617
         },
         {
          "% change": -0.002298186277157388,
          "accumulated return": 1.1264625858812347,
          "capital": 1126462.5858812332,
          "cash": 290.7544279098511,
          "index": "2019-09-27T00:00:00",
          "total_value": 1126171.8314533234
         },
         {
          "% change": -0.0005576295481602989,
          "accumulated return": 1.1258344370584503,
          "capital": 1125834.4370584488,
          "cash": 290.7544279098511,
          "index": "2019-09-30T00:00:00",
          "total_value": 1125543.682630539
         },
         {
          "% change": 0,
          "accumulated return": 1.1258344370584503,
          "capital": 1125834.4370584488,
          "cash": 286.6349697113037,
          "index": "2019-10-01T00:00:00",
          "total_value": 1125547.8020887375
         },
         {
          "% change": -0.0018796516265456864,
          "accumulated return": 1.1237182605276124,
          "capital": 1123718.2605276108,
          "cash": 286.6349697113037,
          "index": "2019-10-02T00:00:00",
          "total_value": 1123431.6255578995
         },
         {
          "% change": 0.005966421254151699,
          "accumulated return": 1.1304228370409026,
          "capital": 1130422.8370409012,
          "cash": 286.6349697113037,
          "index": "2019-10-03T00:00:00",
          "total_value": 1130136.2020711899
         },
         {
          "% change": 0.0047664862520564455,
          "accumulated return": 1.1358109819526687,
          "capital": 1135810.9819526672,
          "cash": 286.6349697113037,
          "index": "2019-10-04T00:00:00",
          "total_value": 1135524.346982956
         },
         {
          "% change": -0.006352376582498209,
          "accumulated return": 1.1285958828687683,
          "capital": 1128595.8828687668,
          "cash": 286.6349697113037,
          "index": "2019-10-07T00:00:00",
          "total_value": 1128309.2478990555
         },
         {
          "% change": -0.0008713824507464718,
          "accumulated return": 1.1276124442224518,
          "capital": 1127612.4442224503,
          "cash": 286.6349697113037,
          "index": "2019-10-08T00:00:00",
          "total_value": 1127325.809252739
         },
         {
          "% change": 5.6909442755603834e-05,
          "accumulated return": 1.1276766160182967,
          "capital": 1127676.6160182953,
          "cash": 286.6349697113037,
          "index": "2019-10-09T00:00:00",
          "total_value": 1127389.981048584
         },
         {
          "% change": -0.0016044647053117256,
          "accumulated return": 1.12586729868889,
          "capital": 1125867.2986888885,
          "cash": 286.6349697113037,
          "index": "2019-10-10T00:00:00",
          "total_value": 1125580.6637191772
         },
         {
          "% change": -0.00037981719918156465,
          "accumulated return": 1.1254396749248519,
          "capital": 1125439.6749248505,
          "cash": 286.6349697113037,
          "index": "2019-10-11T00:00:00",
          "total_value": 1125153.0399551392
         },
         {
          "% change": -0.0012826447016497378,
          "accumulated return": 1.123996135688783,
          "capital": 1123996.1356887817,
          "cash": 286.6349697113037,
          "index": "2019-10-14T00:00:00",
          "total_value": 1123709.5007190704
         },
         {
          "% change": -0.00018545012410287054,
          "accumulated return": 1.1237876904659285,
          "capital": 1123787.6904659271,
          "cash": 286.6349697113037,
          "index": "2019-10-15T00:00:00",
          "total_value": 1123501.0554962158
         },
         {
          "% change": 0.0025296290623388895,
          "accumulated return": 1.12663045646763,
          "capital": 1126630.4564676285,
          "cash": 286.6349697113037,
          "index": "2019-10-16T00:00:00",
          "total_value": 1126343.8214979172
         },
         {
          "% change": 0.00275991909075346,
          "accumulated return": 1.1297398653726591,
          "capital": 1129739.8653726578,
          "cash": 286.6349697113037,
          "index": "2019-10-17T00:00:00",
          "total_value": 1129453.2304029465
         },
         {
          "% change": -0.0010597894582098366,
          "accumulated return": 1.1285425789728178,
          "capital": 1128542.5789728165,
          "cash": 286.6349697113037,
          "index": "2019-10-18T00:00:00",
          "total_value": 1128255.9440031052
         },
         {
          "% change": 0.00018132159029216055,
          "accumulated return": 1.1287472081079497,
          "capital": 1128747.2081079483,
          "cash": 286.6349697113037,
          "index": "2019-10-21T00:00:00",
          "total_value": 1128460.573138237
         },
         {
          "% change": 0.002998747374124644,
          "accumulated return": 1.1321320358343139,
          "capital": 1132132.0358343124,
          "cash": 286.6349697113037,
          "index": "2019-10-22T00:00:00",
          "total_value": 1131845.4008646011
         },
         {
          "% change": 0.0033118518345895964,
          "accumulated return": 1.1358814893941893,
          "capital": 1135881.489394188,
          "cash": 286.6349697113037,
          "index": "2019-10-23T00:00:00",
          "total_value": 1135594.8544244766
         },
         {
          "% change": 0.001058201227297939,
          "accumulated return": 1.1370834805803312,
          "capital": 1137083.48058033,
          "cash": 286.6349697113037,
          "index": "2019-10-24T00:00:00",
          "total_value": 1136796.8456106186
         },
         {
          "% change": 0.0008539355336956156,
          "accumulated return": 1.138054476569177,
          "capital": 1138054.4765691757,
          "cash": 286.6349697113037,
          "index": "2019-10-25T00:00:00",
          "total_value": 1137767.8415994644
         },
         {
          "% change": -0.002394412968717563,
          "accumulated return": 1.1353295041713727,
          "capital": 1135329.5041713715,
          "cash": 286.6349697113037,
          "index": "2019-10-28T00:00:00",
          "total_value": 1135042.8692016602
         },
         {
          "% change": -0.0009023849754646873,
          "accumulated return": 1.1343049998846066,
          "capital": 1134304.9998846054,
          "cash": 286.6349697113037,
          "index": "2019-10-29T00:00:00",
          "total_value": 1134018.364914894
         },
         {
          "% change": 0.0054474321382560476,
          "accumulated return": 1.1404840493955626,
          "capital": 1140484.0493955612,
          "cash": 286.6349697113037,
          "index": "2019-10-30T00:00:00",
          "total_value": 1140197.41442585
         },
         {
          "% change": 0.002819841286244573,
          "accumulated return": 1.1437000334043517,
          "capital": 1143700.0334043503,
          "cash": 286.6349697113037,
          "index": "2019-10-31T00:00:00",
          "total_value": 1143413.398434639
         },
         {
          "% change": 0,
          "accumulated return": 1.1437000334043517,
          "capital": 1143700.0334043503,
          "cash": 459.86015224456787,
          "index": "2019-11-01T00:00:00",
          "total_value": 1143240.1732521057
         },
         {
          "% change": -0.0008956205315419075,
          "accumulated return": 1.1426757121725095,
          "capital": 1142675.7121725082,
          "cash": 459.86015224456787,
          "index": "2019-11-04T00:00:00",
          "total_value": 1142215.8520202637
         },
         {
          "% change": -0.005213593644537107,
          "accumulated return": 1.13671826534176,
          "capital": 1136718.2653417587,
          "cash": 459.86015224456787,
          "index": "2019-11-05T00:00:00",
          "total_value": 1136258.4051895142
         },
         {
          "% change": 0.0016081066930115906,
          "accumulated return": 1.1385462295923245,
          "capital": 1138546.2295923233,
          "cash": 459.86015224456787,
          "index": "2019-11-06T00:00:00",
          "total_value": 1138086.3694400787
         },
         {
          "% change": -0.0041964705940723546,
          "accumulated return": 1.1337683538198484,
          "capital": 1133768.353819847,
          "cash": 459.86015224456787,
          "index": "2019-11-07T00:00:00",
          "total_value": 1133308.4936676025
         },
         {
          "% change": -0.0035160549901549487,
          "accumulated return": 1.1297819619417204,
          "capital": 1129781.961941719,
          "cash": 459.86015224456787,
          "index": "2019-11-08T00:00:00",
          "total_value": 1129322.1017894745
         },
         {
          "% change": -0.002673890900631082,
          "accumulated return": 1.1267610482339874,
          "capital": 1126761.048233986,
          "cash": 459.86015224456787,
          "index": "2019-11-11T00:00:00",
          "total_value": 1126301.1880817413
         },
         {
          "% change": -0.00013039329415820422,
          "accumulated return": 1.1266141261491789,
          "capital": 1126614.1261491776,
          "cash": 459.86015224456787,
          "index": "2019-11-12T00:00:00",
          "total_value": 1126154.265996933
         },
         {
          "% change": 0.001870167116529542,
          "accumulated return": 1.1287210828409207,
          "capital": 1128721.0828409195,
          "cash": 459.86015224456787,
          "index": "2019-11-13T00:00:00",
          "total_value": 1128261.222688675
         },
         {
          "% change": 0.003365578276103065,
          "accumulated return": 1.1325198819971096,
          "capital": 1132519.8819971085,
          "cash": 459.86015224456787,
          "index": "2019-11-14T00:00:00",
          "total_value": 1132060.021844864
         },
         {
          "% change": 0.0037822045142348326,
          "accumulated return": 1.1368033038072598,
          "capital": 1136803.3038072586,
          "cash": 459.86015224456787,
          "index": "2019-11-15T00:00:00",
          "total_value": 1136343.443655014
         },
         {
          "% change": 0.0013147448682504503,
          "accumulated return": 1.1382979101171506,
          "capital": 1138297.9101171494,
          "cash": 459.86015224456787,
          "index": "2019-11-18T00:00:00",
          "total_value": 1137838.0499649048
         },
         {
          "% change": 0.0020350145391179186,
          "accumulated return": 1.1406143629140866,
          "capital": 1140614.3629140854,
          "cash": 459.86015224456787,
          "index": "2019-11-19T00:00:00",
          "total_value": 1140154.5027618408
         },
         {
          "% change": 0.0008684709846773497,
          "accumulated return": 1.1416049533929837,
          "capital": 1141604.9533929825,
          "cash": 459.86015224456787,
          "index": "2019-11-20T00:00:00",
          "total_value": 1141145.093240738
         },
         {
          "% change": -0.0034327278578127896,
          "accumulated return": 1.1376861342668545,
          "capital": 1137686.1342668533,
          "cash": 459.86015224456787,
          "index": "2019-11-21T00:00:00",
          "total_value": 1137226.2741146088
         },
         {
          "% change": 1.1529185352188165e-05,
          "accumulated return": 1.137699250861169,
          "capital": 1137699.250861168,
          "cash": 459.86015224456787,
          "index": "2019-11-22T00:00:00",
          "total_value": 1137239.3907089233
         },
         {
          "% change": 0.0015130714655249289,
          "accumulated return": 1.139420671133996,
          "capital": 1139420.671133995,
          "cash": 459.86015224456787,
          "index": "2019-11-25T00:00:00",
          "total_value": 1138960.8109817505
         },
         {
          "% change": 0.0022576172205539535,
          "accumulated return": 1.1419930468626034,
          "capital": 1141993.0468626022,
          "cash": 459.86015224456787,
          "index": "2019-11-26T00:00:00",
          "total_value": 1141533.1867103577
         },
         {
          "% change": -0.0013382450252417133,
          "accumulated return": 1.1404647803487789,
          "capital": 1140464.7803487778,
          "cash": 459.86015224456787,
          "index": "2019-11-27T00:00:00",
          "total_value": 1140004.9201965332
         },
         {
          "% change": -0.003742942884212841,
          "accumulated return": 1.136196085814477,
          "capital": 1136196.085814476,
          "cash": 459.86015224456787,
          "index": "2019-11-29T00:00:00",
          "total_value": 1135736.2256622314
         },
         {
          "% change": 0,
          "accumulated return": 1.136196085814477,
          "capital": 1136196.085814476,
          "cash": 447.30963706970215,
          "index": "2019-12-02T00:00:00",
          "total_value": 1135748.7761774063
         },
         {
          "% change": 0.003515201257466849,
          "accumulated return": 1.140190043724061,
          "capital": 1140190.04372406,
          "cash": 447.30963706970215,
          "index": "2019-12-03T00:00:00",
          "total_value": 1139742.7340869904
         },
         {
          "% change": 0.0004399478872685325,
          "accumulated return": 1.1406916679248822,
          "capital": 1140691.667924881,
          "cash": 447.30963706970215,
          "index": "2019-12-04T00:00:00",
          "total_value": 1140244.3582878113
         },
         {
          "% change": -9.061400155108146e-06,
          "accumulated return": 1.1406813316612254,
          "capital": 1140681.3316612244,
          "cash": 447.30963706970215,
          "index": "2019-12-05T00:00:00",
          "total_value": 1140234.0220241547
         },
         {
          "% change": 0.00029776644314138956,
          "accumulated return": 1.141020988284112,
          "capital": 1141020.988284111,
          "cash": 447.30963706970215,
          "index": "2019-12-06T00:00:00",
          "total_value": 1140573.6786470413
         },
         {
          "% change": -0.0007528430540637565,
          "accumulated return": 1.1401619785585413,
          "capital": 1140161.9785585403,
          "cash": 447.30963706970215,
          "index": "2019-12-09T00:00:00",
          "total_value": 1139714.6689214706
         },
         {
          "% change": 0.0010558320072924232,
          "accumulated return": 1.1413657980690013,
          "capital": 1141365.7980690002,
          "cash": 447.30963706970215,
          "index": "2019-12-10T00:00:00",
          "total_value": 1140918.4884319305
         },
         {
          "% change": 0.006143591284567984,
          "accumulated return": 1.148377883038522,
          "capital": 1148377.8830385208,
          "cash": 447.30963706970215,
          "index": "2019-12-11T00:00:00",
          "total_value": 1147930.573401451
         },
         {
          "% change": 0.0004090850208076091,
          "accumulated return": 1.1488476672286998,
          "capital": 1148847.6672286987,
          "cash": 447.30963706970215,
          "index": "2019-12-12T00:00:00",
          "total_value": 1148400.357591629
         },
         {
          "% change": 0.004204254552145459,
          "accumulated return": 1.1536777152633677,
          "capital": 1153677.7152633667,
          "cash": 447.30963706970215,
          "index": "2019-12-13T00:00:00",
          "total_value": 1153230.405626297
         },
         {
          "% change": 0.0010136297580323195,
          "accumulated return": 1.1548471173267374,
          "capital": 1154847.1173267365,
          "cash": 447.30963706970215,
          "index": "2019-12-16T00:00:00",
          "total_value": 1154399.8076896667
         },
         {
          "% change": 0.0003874751283305944,
          "accumulated return": 1.155294591861726,
          "capital": 1155294.5918617249,
          "cash": 447.30963706970215,
          "index": "2019-12-17T00:00:00",
          "total_value": 1154847.2822246552
         },
         {
          "% change": -0.002272775411589212,
          "accumulated return": 1.1526688667202005,
          "capital": 1152668.8667201996,
          "cash": 447.30963706970215,
          "index": "2019-12-18T00:00:00",
          "total_value": 1152221.5570831299
         },
         {
          "% change": 0.001719099235785615,
          "accumulated return": 1.154650418888093,
          "capital": 1154650.418888092,
          "cash": 447.30963706970215,
          "index": "2019-12-19T00:00:00",
          "total_value": 1154203.1092510223
         },
         {
          "% change": 0.0015604417934935721,
          "accumulated return": 1.1564521836586008,
          "capital": 1156452.1836585999,
          "cash": 447.30963706970215,
          "index": "2019-12-20T00:00:00",
          "total_value": 1156004.8740215302
         },
         {
          "% change": 0.001285220138130816,
          "accumulated return": 1.157938479293824,
          "capital": 1157938.4792938232,
          "cash": 447.30963706970215,
          "index": "2019-12-23T00:00:00",
          "total_value": 1157491.1696567535
         },
         {
          "% change": 0.002650106123738505,
          "accumulated return": 1.1610071391487131,
          "capital": 1161007.1391487122,
          "cash": 447.30963706970215,
          "index": "2019-12-24T00:00:00",
          "total_value": 1160559.8295116425
         },
         {
          "% change": 0.004480166872847358,
          "accumulated return": 1.1662086448726665,
          "capital": 1166208.6448726654,
          "cash": 447.30963706970215,
          "index": "2019-12-26T00:00:00",
          "total_value": 1165761.3352355957
         },
         {
          "% change": 0.002383230134836989,
          "accumulated return": 1.1689879884586345,
          "capital": 1168987.9884586334,
          "cash": 447.30963706970215,
          "index": "2019-12-27T00:00:00",
          "total_value": 1168540.6788215637
         },
         {
          "% change": -0.0020943438529887892,
          "accumulated return": 1.1665397256507883,
          "capital": 1166539.7256507874,
          "cash": 447.30963706970215,
          "index": "2019-12-30T00:00:00",
          "total_value": 1166092.4160137177
         },
         {
          "% change": 0.00022561705175982993,
          "accumulated return": 1.1668029169044505,
          "capital": 1166802.9169044495,
          "cash": 447.30963706970215,
          "index": "2019-12-31T00:00:00",
          "total_value": 1166355.6072673798
         }
        ]
       },
       "vconcat": [
        {
         "height": 350,
         "layer": [
          {
           "encoding": {
            "opacity": {
             "value": 0
            },
            "x": {
             "field": "index",
             "type": "temporal"
            }
           },
           "mark": "point",
           "selection": {
            "selector002": {
             "empty": "none",
             "fields": [
              "index"
             ],
             "nearest": true,
             "on": "mouseover",
             "type": "single"
            }
           }
          },
          {
           "encoding": {
            "opacity": {
             "condition": {
              "selection": "selector002",
              "value": 1
             },
             "value": 0
            },
            "x": {
             "field": "index",
             "type": "temporal"
            },
            "y": {
             "axis": {
              "format": "%"
             },
             "field": "accumulated return",
             "type": "quantitative"
            }
           },
           "mark": "point"
          },
          {
           "encoding": {
            "text": {
             "condition": {
              "field": "accumulated return",
              "format": ".2%",
              "selection": "selector002",
              "type": "quantitative"
             },
             "value": " "
            },
            "x": {
             "field": "index",
             "type": "temporal"
            },
            "y": {
             "axis": {
              "format": "%"
             },
             "field": "accumulated return",
             "type": "quantitative"
            }
           },
           "mark": {
            "align": "left",
            "dx": 5,
            "dy": -5,
            "type": "text"
           }
          },
          {
           "encoding": {
            "x": {
             "axis": {
              "title": "date"
             },
             "field": "index",
             "scale": {
              "domain": {
               "selection": "selector001"
              }
             },
             "type": "temporal"
            },
            "y": {
             "axis": {
              "format": "%"
             },
             "field": "accumulated return",
             "type": "quantitative"
            }
           },
           "mark": {
            "opacity": 0.7,
            "type": "area"
           }
          }
         ],
         "title": "Wealth over time",
         "width": 700
        },
        {
         "encoding": {
          "x": {
           "field": "index",
           "type": "temporal"
          },
          "y": {
           "axis": {
            "format": "%"
           },
           "field": "accumulated return",
           "type": "quantitative"
          }
         },
         "height": 70,
         "mark": {
          "opacity": 0.7,
          "type": "area"
         },
         "selection": {
          "selector001": {
           "encodings": [
            "x"
           ],
           "type": "interval"
          }
         },
         "width": 700
        }
       ]
      },
      "image/png": "[encoded data removed]",
      "text/plain": [
       "<VegaLite 3 object>\n",
       "\n",
       "If you see this message, it means the renderer has not been properly enabled\n",
       "for the frontend that you are using. For more information, see\n",
       "https://altair-viz.github.io/user_guide/troubleshooting.html\n"
      ]
     },
     "execution_count": 16,
     "metadata": {},
     "output_type": "execute_result"
    }
   ],
   "source": [
    "returns_chart(bt.balance)"
   ]
  },
  {
   "cell_type": "code",
   "execution_count": null,
   "metadata": {},
   "outputs": [],
   "source": []
  }
 ],
 "metadata": {
  "kernelspec": {
   "display_name": "Python 3",
   "language": "python",
   "name": "python3"
  },
  "language_info": {
   "codemirror_mode": {
    "name": "ipython",
    "version": 3
   },
   "file_extension": ".py",
   "mimetype": "text/x-python",
   "name": "python",
   "nbconvert_exporter": "python",
   "pygments_lexer": "ipython3",
   "version": "3.7.5"
  }
 },
 "nbformat": 4,
 "nbformat_minor": 4
}
